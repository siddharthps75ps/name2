{
 "cells": [
  {
   "cell_type": "code",
   "execution_count": 4,
   "id": "3ea552b2",
   "metadata": {},
   "outputs": [],
   "source": [
    "s= {\n",
    "    \"attendance_details\":{\n",
    "        \"18-10-21\":[\n",
    "            {\n",
    "                \"id\":\"101\",\n",
    "                \"name\":\"Siddharth\",\n",
    "                \"attendance\":\"p\"\n",
    "            \n",
    "            },\n",
    "            {\n",
    "                \"id\":\"101\",\n",
    "                \"name\":\"Siddharth\",\n",
    "                \"attendance\":\"p\"\n",
    "            \n",
    "            },\n",
    "            {\n",
    "                \"id\":\"101\",\n",
    "                \"name\":\"Siddharth\",\n",
    "                \"attendance\":\"p\"\n",
    "            \n",
    "            },\n",
    "            \n",
    "        ],\n",
    "        \"19-10-21\":[\n",
    "            {\n",
    "                \"id\":\"101\",\n",
    "                \"name\":\"Siddharth\",\n",
    "                \"attendance\":\"p\"\n",
    "            \n",
    "            },\n",
    "            {\n",
    "                \"id\":\"101\",\n",
    "                \"name\":\"Siddharth\",\n",
    "                \"attendance\":\"p\"\n",
    "            \n",
    "            },\n",
    "            {\n",
    "                \"id\":\"101\",\n",
    "                \"name\":\"Siddharth\",\n",
    "                \"attendance\":\"p\"\n",
    "            \n",
    "            },\n",
    "            \n",
    "        ]\n",
    "    }\n",
    "}"
   ]
  },
  {
   "cell_type": "code",
   "execution_count": 4,
   "id": "b71d42d3",
   "metadata": {},
   "outputs": [],
   "source": [
    "import json"
   ]
  },
  {
   "cell_type": "code",
   "execution_count": 2,
   "id": "de6af5b7",
   "metadata": {},
   "outputs": [
    {
     "ename": "NameError",
     "evalue": "name 's' is not defined",
     "output_type": "error",
     "traceback": [
      "\u001b[1;31m---------------------------------------------------------------------------\u001b[0m",
      "\u001b[1;31mNameError\u001b[0m                                 Traceback (most recent call last)",
      "\u001b[1;32m<ipython-input-2-3f8d45676fb4>\u001b[0m in \u001b[0;36m<module>\u001b[1;34m\u001b[0m\n\u001b[1;32m----> 1\u001b[1;33m \u001b[0ms\u001b[0m \u001b[1;33m=\u001b[0m \u001b[0mjson\u001b[0m\u001b[1;33m.\u001b[0m\u001b[0mdumps\u001b[0m\u001b[1;33m(\u001b[0m\u001b[0ms\u001b[0m\u001b[1;33m,\u001b[0m\u001b[0mindent\u001b[0m\u001b[1;33m=\u001b[0m\u001b[1;36m4\u001b[0m\u001b[1;33m)\u001b[0m\u001b[1;33m\u001b[0m\u001b[1;33m\u001b[0m\u001b[0m\n\u001b[0m",
      "\u001b[1;31mNameError\u001b[0m: name 's' is not defined"
     ]
    }
   ],
   "source": [
    "s = json.dumps(s,indent=4)"
   ]
  },
  {
   "cell_type": "code",
   "execution_count": 7,
   "id": "b3477cec",
   "metadata": {},
   "outputs": [],
   "source": [
    "with open('sample_json_file.json','w') as outfile:\n",
    "    outfile.write(s)\n",
    "    outfile.close()"
   ]
  },
  {
   "cell_type": "code",
   "execution_count": 8,
   "id": "14b21531",
   "metadata": {},
   "outputs": [],
   "source": [
    "s = {\n",
    "    \"attendance_details\":[\n",
    "        {\n",
    "            \"date\":\"20-10-21\" , 'details':[{\n",
    "                \"id\":\"101\",\n",
    "                \"name\":\"Siddharth\",\n",
    "                \"attendance\":\"p\"\n",
    "            \n",
    "            },\n",
    "            {\n",
    "                \"id\":\"101\",\n",
    "                \"name\":\"Siddharth\",\n",
    "                \"attendance\":\"p\"\n",
    "            \n",
    "            },\n",
    "            {\n",
    "                \"id\":\"101\",\n",
    "                \"name\":\"Siddharth\",\n",
    "                \"attendance\":\"p\"\n",
    "            \n",
    "            }]\n",
    "            \n",
    "        }]\n",
    "}"
   ]
  },
  {
   "cell_type": "code",
   "execution_count": null,
   "id": "8356a7d6",
   "metadata": {},
   "outputs": [],
   "source": [
    "s = {\n",
    "    \"attendance_details\":[\n",
    "        {\n",
    "            \"date\":\"10-11-21\",\"details\":[\n",
    "                {\n",
    "                    \"id\":'101'\n",
    "                    \"name\":'Sid'\n",
    "                    \"attendance\":\"a\"\n",
    "                },b\n",
    "                {\n",
    "                    \"id\":'101'\n",
    "                    \"name\":'Sid'\n",
    "                    \n",
    "                },\n",
    "                {\n",
    "                    \"id\":'101'\n",
    "                    \"name\":'Sid'\n",
    "                }\n",
    "            ]\n",
    "        },\n",
    "        {\n",
    "            \n",
    "            \"date\":\"10-11-21\",\"details\":[\n",
    "                {\n",
    "                    \"id\":'101'\n",
    "                    \"name\":'Sid'\n",
    "                },\n",
    "                {\n",
    "                    \"id\":'101'\n",
    "                    \"name\":'Sid'\n",
    "                    \n",
    "                },\n",
    "                {\n",
    "                    \"id\":'101'\n",
    "                    \"name\":'Sid'\n",
    "                }\n",
    "            ]\n",
    "        }\n",
    "    ]\n",
    "}"
   ]
  },
  {
   "cell_type": "code",
   "execution_count": 11,
   "id": "11060d20",
   "metadata": {},
   "outputs": [],
   "source": [
    "s = {\n",
    "    \"attendance_details\": [\n",
    "        \n",
    "    ]\n",
    "        \n",
    "}"
   ]
  },
  {
   "cell_type": "code",
   "execution_count": 13,
   "id": "c4d3a6d2",
   "metadata": {},
   "outputs": [],
   "source": [
    "data = json.dumps(s,indent=4)"
   ]
  },
  {
   "cell_type": "code",
   "execution_count": 14,
   "id": "2004bd8d",
   "metadata": {},
   "outputs": [
    {
     "data": {
      "text/plain": [
       "'{\\n    \"attendance_details\": []\\n}'"
      ]
     },
     "execution_count": 14,
     "metadata": {},
     "output_type": "execute_result"
    }
   ],
   "source": []
  },
  {
   "cell_type": "code",
   "execution_count": null,
   "id": "72323d81",
   "metadata": {},
   "outputs": [],
   "source": []
  }
 ],
 "metadata": {
  "kernelspec": {
   "display_name": "Python 3",
   "language": "python",
   "name": "python3"
  },
  "language_info": {
   "codemirror_mode": {
    "name": "ipython",
    "version": 3
   },
   "file_extension": ".py",
   "mimetype": "text/x-python",
   "name": "python",
   "nbconvert_exporter": "python",
   "pygments_lexer": "ipython3",
   "version": "3.8.8"
  }
 },
 "nbformat": 4,
 "nbformat_minor": 5
}
