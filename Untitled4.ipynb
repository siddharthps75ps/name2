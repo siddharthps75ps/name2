{
 "cells": [
  {
   "cell_type": "code",
   "execution_count": 18,
   "id": "1346569d",
   "metadata": {},
   "outputs": [],
   "source": [
    "import json"
   ]
  },
  {
   "cell_type": "code",
   "execution_count": 19,
   "id": "a57d53a9",
   "metadata": {},
   "outputs": [],
   "source": [
    "with open('sample3.json','r') as access_json:\n",
    "    data = json.load(access_json)\n",
    "    access_json.close()"
   ]
  },
  {
   "cell_type": "code",
   "execution_count": 20,
   "id": "a45018db",
   "metadata": {},
   "outputs": [
    {
     "data": {
      "text/plain": [
       "{'employee_details': []}"
      ]
     },
     "execution_count": 20,
     "metadata": {},
     "output_type": "execute_result"
    }
   ],
   "source": [
    "data"
   ]
  },
  {
   "cell_type": "code",
   "execution_count": 21,
   "id": "90dfdb94",
   "metadata": {},
   "outputs": [],
   "source": [
    "date_data = {\n",
    "    \"date\":\"24\"\n",
    "}"
   ]
  },
  {
   "cell_type": "code",
   "execution_count": 22,
   "id": "037c5b06",
   "metadata": {},
   "outputs": [],
   "source": [
    "data[\"employee_details\"].append(date_data)"
   ]
  },
  {
   "cell_type": "code",
   "execution_count": 23,
   "id": "ac9c07ce",
   "metadata": {},
   "outputs": [],
   "source": [
    "with open('attendance_file.json','r') as access_json:\n",
    "    data1 = json.load(access_json)\n",
    "    access_json.close()"
   ]
  },
  {
   "cell_type": "code",
   "execution_count": 24,
   "id": "fc4c99ae",
   "metadata": {},
   "outputs": [],
   "source": [
    "data[\"employee_details\"].append(data1)"
   ]
  },
  {
   "cell_type": "code",
   "execution_count": 25,
   "id": "2a4c615d",
   "metadata": {},
   "outputs": [
    {
     "data": {
      "text/plain": [
       "{'employee_details': [{'date': '24'},\n",
       "  {'attendance_details': [{'Employee_ID': '100\\\\',\n",
       "     'Name': 'Sekar',\n",
       "     'Attendance': 'p'},\n",
       "    {'Employee_ID': '140', 'Name': 'Sda', 'Attendance': 'a'}]}]}"
      ]
     },
     "execution_count": 25,
     "metadata": {},
     "output_type": "execute_result"
    }
   ],
   "source": [
    "data"
   ]
  },
  {
   "cell_type": "code",
   "execution_count": null,
   "id": "b08ff0f1",
   "metadata": {},
   "outputs": [],
   "source": []
  }
 ],
 "metadata": {
  "kernelspec": {
   "display_name": "Python 3",
   "language": "python",
   "name": "python3"
  },
  "language_info": {
   "codemirror_mode": {
    "name": "ipython",
    "version": 3
   },
   "file_extension": ".py",
   "mimetype": "text/x-python",
   "name": "python",
   "nbconvert_exporter": "python",
   "pygments_lexer": "ipython3",
   "version": "3.8.8"
  }
 },
 "nbformat": 4,
 "nbformat_minor": 5
}
