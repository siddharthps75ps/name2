{
 "cells": [
  {
   "cell_type": "code",
   "execution_count": 4,
   "id": "dc30faf9",
   "metadata": {},
   "outputs": [
    {
     "ename": "SyntaxError",
     "evalue": "invalid syntax (<ipython-input-4-57c95374be35>, line 23)",
     "output_type": "error",
     "traceback": [
      "\u001b[1;36m  File \u001b[1;32m\"<ipython-input-4-57c95374be35>\"\u001b[1;36m, line \u001b[1;32m23\u001b[0m\n\u001b[1;33m    \"10-1921\":[\u001b[0m\n\u001b[1;37m    ^\u001b[0m\n\u001b[1;31mSyntaxError\u001b[0m\u001b[1;31m:\u001b[0m invalid syntax\n"
     ]
    }
   ],
   "source": [
    "s = {\n",
    "    \"attendance_details\" : {\n",
    "        \"10-18-21\":[\n",
    "            {\n",
    "                'ID':'101',\n",
    "                'Name':'Siddharth',\n",
    "                'Attendance':'p'\n",
    "                \n",
    "            },\n",
    "            {\n",
    "                'ID':'101',\n",
    "                'Name':'Siddharth',\n",
    "                'Attendance':'p'\n",
    "                \n",
    "            },\n",
    "            {\n",
    "                'ID':'101',\n",
    "                'Name':'Siddharth',\n",
    "                'Attendance':'p'\n",
    "                \n",
    "            }\n",
    "            \n",
    "        \"19-10-21\"\n",
    "            {\n",
    "                'ID':'101',\n",
    "                'Name':'Siddharth',\n",
    "                'Attendance':'p'\n",
    "                \n",
    "            },\n",
    "            {\n",
    "                'ID':'101',\n",
    "                'Name':'Siddharth',\n",
    "                'Attendance:'p'\n",
    "                \n",
    "            },\n",
    "            \n",
    "            \n",
    "        ]\n",
    "            \n",
    "        ]\n",
    "    } \n",
    "}"
   ]
  },
  {
   "cell_type": "code",
   "execution_count": null,
   "id": "c43ee5f9",
   "metadata": {},
   "outputs": [],
   "source": []
  }
 ],
 "metadata": {
  "kernelspec": {
   "display_name": "Python 3",
   "language": "python",
   "name": "python3"
  },
  "language_info": {
   "codemirror_mode": {
    "name": "ipython",
    "version": 3
   },
   "file_extension": ".py",
   "mimetype": "text/x-python",
   "name": "python",
   "nbconvert_exporter": "python",
   "pygments_lexer": "ipython3",
   "version": "3.8.8"
  }
 },
 "nbformat": 4,
 "nbformat_minor": 5
}
