{
 "cells": [
  {
   "cell_type": "code",
   "execution_count": 13,
   "id": "47460971",
   "metadata": {},
   "outputs": [],
   "source": [
    "import json\n"
   ]
  },
  {
   "cell_type": "code",
   "execution_count": 14,
   "id": "30b510a0",
   "metadata": {},
   "outputs": [],
   "source": [
    "with open('attendance_file.json','r') as access_json:\n",
    "    data = json.load(access_json)"
   ]
  },
  {
   "cell_type": "code",
   "execution_count": 15,
   "id": "125cc268",
   "metadata": {},
   "outputs": [
    {
     "data": {
      "text/plain": [
       "{'attendance_details': [{'date': '19-10-21',\n",
       "   'details': [{'id': '100', 'name': 'Siddharth', 'attendance': 'p'},\n",
       "    {'id': '101', 'name': 'Vivek', 'attendance': 'a'},\n",
       "    {'id': '102', 'name': 'Hari', 'attendance': 'p'},\n",
       "    {'id': '103', 'name': 'Akshay', 'attendance': 'p'},\n",
       "    {'id': '104', 'name': 'Abhi', 'attendance': 'p'},\n",
       "    {'id': '105', 'name': 'Amal', 'attendance': 'a'}]},\n",
       "  {'date': '20-10-21',\n",
       "   'details': [{'id': '100', 'name': 'Siddharth', 'attendance': 'p'},\n",
       "    {'id': '101', 'name': 'Vivek', 'attendance': 'p'},\n",
       "    {'id': '102', 'name': 'Hari', 'attendance': 'p'},\n",
       "    {'id': '103', 'name': 'Akshay', 'attendance': 'a'},\n",
       "    {'id': '104', 'name': 'Abhi', 'attendance': 'a'},\n",
       "    {'id': '105', 'name': 'Amal', 'attendance': 'a'}]},\n",
       "  {'date': '22-10-21',\n",
       "   'details': [{'id': '100', 'name': 'Siddharth', 'attendance': 'p'},\n",
       "    {'id': '101', 'name': 'Vivek', 'attendance': 'a'},\n",
       "    {'id': '102', 'name': 'Hari', 'attendance': 'p'},\n",
       "    {'id': '103', 'name': 'Akshay', 'attendance': 'a'},\n",
       "    {'id': '104', 'name': 'Abhi', 'attendance': 'p'},\n",
       "    {'id': '105', 'name': 'Amal', 'attendance': 'a'}]},\n",
       "  {'date': '25-10-21',\n",
       "   'details': [{'id': '100', 'name': 'Siddharth', 'attendance': 'p'},\n",
       "    {'id': '101', 'name': 'Vivek', 'attendance': 'a'},\n",
       "    {'id': '102', 'name': 'Hari', 'attendance': ''},\n",
       "    {'id': '103', 'name': 'Akshay', 'attendance': 'a'},\n",
       "    {'id': '104', 'name': 'Abhi', 'attendance': 'p'},\n",
       "    {'id': '105', 'name': 'Amal', 'attendance': 'a'}]}]}"
      ]
     },
     "execution_count": 15,
     "metadata": {},
     "output_type": "execute_result"
    }
   ],
   "source": [
    "data"
   ]
  },
  {
   "cell_type": "code",
   "execution_count": 16,
   "id": "4b5443c3",
   "metadata": {},
   "outputs": [],
   "source": [
    "dates_available=[]\n",
    "for i in range(len(data['attendance_details'])):\n",
    "    dates_available.append(data['attendance_details'][i][\"date\"])\n",
    "    \n",
    "#     dates_available = [x for x in data['attendance_details'][i]['date']]\n",
    "\n",
    "    "
   ]
  },
  {
   "cell_type": "code",
   "execution_count": 21,
   "id": "250e661b",
   "metadata": {},
   "outputs": [
    {
     "data": {
      "text/plain": [
       "['19-10-21', '20-10-21', '22-10-21', '25-10-21']"
      ]
     },
     "execution_count": 21,
     "metadata": {},
     "output_type": "execute_result"
    }
   ],
   "source": [
    "dates_available"
   ]
  },
  {
   "cell_type": "code",
   "execution_count": 22,
   "id": "bd4fd92a",
   "metadata": {},
   "outputs": [
    {
     "name": "stdout",
     "output_type": "stream",
     "text": [
      "Choose date to mark attendance 19-10-21\n"
     ]
    }
   ],
   "source": [
    "date_input = input(\"Choose date to mark attendance \")\n"
   ]
  },
  {
   "cell_type": "code",
   "execution_count": 23,
   "id": "7a7e9377",
   "metadata": {},
   "outputs": [],
   "source": [
    "if date_input in dates_available:\n",
    "    date_index = dates_available.index(date_input)"
   ]
  },
  {
   "cell_type": "code",
   "execution_count": 24,
   "id": "839f323d",
   "metadata": {},
   "outputs": [
    {
     "data": {
      "text/plain": [
       "0"
      ]
     },
     "execution_count": 24,
     "metadata": {},
     "output_type": "execute_result"
    }
   ],
   "source": [
    "date_index"
   ]
  },
  {
   "cell_type": "code",
   "execution_count": 25,
   "id": "2765f75b",
   "metadata": {},
   "outputs": [],
   "source": [
    "def read_json():\n",
    "    with open('sample2.json') as access_json:\n",
    "                data_file1 = json.load(access_json)\n",
    "\n",
    "    return data_file1[\"employee_details\"]"
   ]
  },
  {
   "cell_type": "code",
   "execution_count": 26,
   "id": "bfb154b2",
   "metadata": {},
   "outputs": [],
   "source": [
    "data_file = read_json()"
   ]
  },
  {
   "cell_type": "code",
   "execution_count": 27,
   "id": "47b743b8",
   "metadata": {},
   "outputs": [],
   "source": [
    "def details_list(data_file):\n",
    "\n",
    "        list_of_details = []\n",
    "\n",
    "        for i in range(len(data_file)):\n",
    "            attendance = input(f\"Mark P or A for {data_file[i]['Name']}  \")\n",
    "            dict_employee_details = {\n",
    "                \n",
    "                \"id\":data_file[i][\"Employee_ID\"],\n",
    "                \"name\":data_file[i][\"Name\"],\n",
    "                \"attendance\":attendance\n",
    "            }\n",
    "\n",
    "            list_of_details.append(dict_employee_details)\n",
    "        \n",
    "        return list_of_details"
   ]
  },
  {
   "cell_type": "code",
   "execution_count": 28,
   "id": "d04fc4f0",
   "metadata": {},
   "outputs": [
    {
     "name": "stdout",
     "output_type": "stream",
     "text": [
      "Mark P or A for Siddharth  p\n",
      "Mark P or A for Vivek  p\n",
      "Mark P or A for Hari  a\n",
      "Mark P or A for Akshay  \n",
      "Mark P or A for Abhi  a\n",
      "Mark P or A for Amal  a\n"
     ]
    }
   ],
   "source": [
    "new_details = details_list(data_file)"
   ]
  },
  {
   "cell_type": "code",
   "execution_count": 29,
   "id": "a06434e1",
   "metadata": {},
   "outputs": [
    {
     "data": {
      "text/plain": [
       "[{'id': '100', 'name': 'Siddharth', 'attendance': 'p'},\n",
       " {'id': '101', 'name': 'Vivek', 'attendance': 'p'},\n",
       " {'id': '102', 'name': 'Hari', 'attendance': 'a'},\n",
       " {'id': '103', 'name': 'Akshay', 'attendance': ''},\n",
       " {'id': '104', 'name': 'Abhi', 'attendance': 'a'},\n",
       " {'id': '105', 'name': 'Amal', 'attendance': 'a'}]"
      ]
     },
     "execution_count": 29,
     "metadata": {},
     "output_type": "execute_result"
    }
   ],
   "source": [
    "new_details"
   ]
  },
  {
   "cell_type": "code",
   "execution_count": 30,
   "id": "49f18b1a",
   "metadata": {},
   "outputs": [],
   "source": [
    "data['attendance_details'][date_index][\"details\"] = new_details"
   ]
  },
  {
   "cell_type": "code",
   "execution_count": 31,
   "id": "84b4c498",
   "metadata": {},
   "outputs": [
    {
     "data": {
      "text/plain": [
       "[{'id': '100', 'name': 'Siddharth', 'attendance': 'p'},\n",
       " {'id': '101', 'name': 'Vivek', 'attendance': 'p'},\n",
       " {'id': '102', 'name': 'Hari', 'attendance': 'a'},\n",
       " {'id': '103', 'name': 'Akshay', 'attendance': ''},\n",
       " {'id': '104', 'name': 'Abhi', 'attendance': 'a'},\n",
       " {'id': '105', 'name': 'Amal', 'attendance': 'a'}]"
      ]
     },
     "execution_count": 31,
     "metadata": {},
     "output_type": "execute_result"
    }
   ],
   "source": [
    "data['attendance_details'][date_index][\"details\"]"
   ]
  },
  {
   "cell_type": "code",
   "execution_count": 45,
   "id": "3a088ec3",
   "metadata": {},
   "outputs": [
    {
     "data": {
      "text/plain": [
       "{'attendance_details': [{'date': '19-10-21',\n",
       "   'details': [{'id': '100', 'name': 'Siddharth', 'attendance': 'a'},\n",
       "    {'id': '101', 'name': 'Vivek', 'attendance': 'a'},\n",
       "    {'id': '102', 'name': 'Hari', 'attendance': 'a'},\n",
       "    {'id': '103', 'name': 'Akshay', 'attendance': 'a'},\n",
       "    {'id': '104', 'name': 'Abhi', 'attendance': 'a'},\n",
       "    {'id': '105', 'name': 'Amal', 'attendance': 'a'}]},\n",
       "  {'date': '20-10-21',\n",
       "   'details': [{'id': '100', 'name': 'Siddharth', 'attendance': 'p'},\n",
       "    {'id': '101', 'name': 'Vivek', 'attendance': 'p'},\n",
       "    {'id': '102', 'name': 'Hari', 'attendance': 'p'},\n",
       "    {'id': '103', 'name': 'Akshay', 'attendance': 'a'},\n",
       "    {'id': '104', 'name': 'Abhi', 'attendance': 'a'},\n",
       "    {'id': '105', 'name': 'Amal', 'attendance': 'a'}]},\n",
       "  {'date': '22-10-21',\n",
       "   'details': [{'id': '100', 'name': 'Siddharth', 'attendance': 'p'},\n",
       "    {'id': '101', 'name': 'Vivek', 'attendance': 'a'},\n",
       "    {'id': '102', 'name': 'Hari', 'attendance': 'p'},\n",
       "    {'id': '103', 'name': 'Akshay', 'attendance': 'a'},\n",
       "    {'id': '104', 'name': 'Abhi', 'attendance': 'p'},\n",
       "    {'id': '105', 'name': 'Amal', 'attendance': 'a'}]},\n",
       "  {'date': '25-10-21',\n",
       "   'details': [{'id': '100', 'name': 'Siddharth', 'attendance': 'p'},\n",
       "    {'id': '101', 'name': 'Vivek', 'attendance': 'a'},\n",
       "    {'id': '102', 'name': 'Hari', 'attendance': ''},\n",
       "    {'id': '103', 'name': 'Akshay', 'attendance': 'a'},\n",
       "    {'id': '104', 'name': 'Abhi', 'attendance': 'p'},\n",
       "    {'id': '105', 'name': 'Amal', 'attendance': 'a'}]}]}"
      ]
     },
     "execution_count": 45,
     "metadata": {},
     "output_type": "execute_result"
    }
   ],
   "source": [
    "data"
   ]
  },
  {
   "cell_type": "code",
   "execution_count": 4,
   "id": "639b4134",
   "metadata": {},
   "outputs": [
    {
     "data": {
      "text/plain": [
       "'100'"
      ]
     },
     "execution_count": 4,
     "metadata": {},
     "output_type": "execute_result"
    }
   ],
   "source": [
    "data['attendance_details'][0][\"details\"][0][\"id\"]"
   ]
  },
  {
   "cell_type": "code",
   "execution_count": null,
   "id": "79a65c0b",
   "metadata": {},
   "outputs": [],
   "source": []
  }
 ],
 "metadata": {
  "kernelspec": {
   "display_name": "Python 3",
   "language": "python",
   "name": "python3"
  },
  "language_info": {
   "codemirror_mode": {
    "name": "ipython",
    "version": 3
   },
   "file_extension": ".py",
   "mimetype": "text/x-python",
   "name": "python",
   "nbconvert_exporter": "python",
   "pygments_lexer": "ipython3",
   "version": "3.8.8"
  }
 },
 "nbformat": 4,
 "nbformat_minor": 5
}
