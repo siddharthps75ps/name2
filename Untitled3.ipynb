{
 "cells": [
  {
   "cell_type": "code",
   "execution_count": 1,
   "id": "48bc2925",
   "metadata": {},
   "outputs": [],
   "source": [
    "class Sample:\n",
    "    \n",
    "    def func1():\n",
    "        return \"hai\"\n",
    "    \n",
    "    \n",
    "    \n",
    "    file=func1"
   ]
  },
  {
   "cell_type": "code",
   "execution_count": 2,
   "id": "1ef22586",
   "metadata": {},
   "outputs": [],
   "source": [
    "ob=Sample"
   ]
  },
  {
   "cell_type": "code",
   "execution_count": 4,
   "id": "96daa1f3",
   "metadata": {},
   "outputs": [
    {
     "data": {
      "text/plain": [
       "'hai'"
      ]
     },
     "execution_count": 4,
     "metadata": {},
     "output_type": "execute_result"
    }
   ],
   "source": [
    "ob.func1()"
   ]
  },
  {
   "cell_type": "code",
   "execution_count": 6,
   "id": "42fbb340",
   "metadata": {},
   "outputs": [
    {
     "data": {
      "text/plain": [
       "'hai'"
      ]
     },
     "execution_count": 6,
     "metadata": {},
     "output_type": "execute_result"
    }
   ],
   "source": [
    "ob.file()"
   ]
  },
  {
   "cell_type": "code",
   "execution_count": 8,
   "id": "085bdf38",
   "metadata": {},
   "outputs": [],
   "source": [
    "s = {\n",
    "    \"employee_details\": [\n",
    "        {\n",
    "            \"Employee_ID\": \"103\",\n",
    "            \"Name\": \"nandu\",\n",
    "            \"Department\": \"Java\",\n",
    "            \"Job\": \"Trainee\"\n",
    "        },\n",
    "        {\n",
    "            \"Employee_ID\": \"107\",\n",
    "            \"Name\": \"tyu\",\n",
    "            \"Department\": \"hjf\",\n",
    "            \"Job\": \"sa\"\n",
    "        },\n",
    "        {\n",
    "            \"Employee_ID\": \"108\",\n",
    "            \"Name\": \"Giri\",\n",
    "            \"Department\": \"PHP\",\n",
    "            \"Job\": \"Developer\"\n",
    "        },\n",
    "        {\n",
    "            \"Employee_ID\": \"100\\\\\",\n",
    "            \"Name\": \"Sekar\",\n",
    "            \"Department\": \"PHP\",\n",
    "            \"Job\": \"UI\"\n",
    "        }\n",
    "    ]\n",
    "}"
   ]
  },
  {
   "cell_type": "code",
   "execution_count": 9,
   "id": "95326da4",
   "metadata": {},
   "outputs": [
    {
     "data": {
      "text/plain": [
       "[{'Employee_ID': '103',\n",
       "  'Name': 'nandu',\n",
       "  'Department': 'Java',\n",
       "  'Job': 'Trainee'},\n",
       " {'Employee_ID': '107', 'Name': 'tyu', 'Department': 'hjf', 'Job': 'sa'},\n",
       " {'Employee_ID': '108',\n",
       "  'Name': 'Giri',\n",
       "  'Department': 'PHP',\n",
       "  'Job': 'Developer'},\n",
       " {'Employee_ID': '100\\\\', 'Name': 'Sekar', 'Department': 'PHP', 'Job': 'UI'}]"
      ]
     },
     "execution_count": 9,
     "metadata": {},
     "output_type": "execute_result"
    }
   ],
   "source": [
    "s[\"employee_details\"]"
   ]
  },
  {
   "cell_type": "code",
   "execution_count": 10,
   "id": "3a383bbc",
   "metadata": {},
   "outputs": [
    {
     "data": {
      "text/plain": [
       "4"
      ]
     },
     "execution_count": 10,
     "metadata": {},
     "output_type": "execute_result"
    }
   ],
   "source": [
    "len(s[\"employee_details\"])"
   ]
  },
  {
   "cell_type": "code",
   "execution_count": null,
   "id": "fdbdd844",
   "metadata": {},
   "outputs": [],
   "source": []
  }
 ],
 "metadata": {
  "kernelspec": {
   "display_name": "Python 3",
   "language": "python",
   "name": "python3"
  },
  "language_info": {
   "codemirror_mode": {
    "name": "ipython",
    "version": 3
   },
   "file_extension": ".py",
   "mimetype": "text/x-python",
   "name": "python",
   "nbconvert_exporter": "python",
   "pygments_lexer": "ipython3",
   "version": "3.8.8"
  }
 },
 "nbformat": 4,
 "nbformat_minor": 5
}
