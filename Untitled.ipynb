{
 "cells": [
  {
   "cell_type": "code",
   "execution_count": 1,
   "id": "c4dec1d9",
   "metadata": {},
   "outputs": [
    {
     "name": "stdout",
     "output_type": "stream",
     "text": [
      "Enter Employee ID100\n",
      "Enter nameSid\n",
      "Enter DepartmentCS\n",
      "Enter jobtrainee\n"
     ]
    }
   ],
   "source": [
    "employee_id = input(\"Enter Employee ID\")\n",
    "name = input(\"Enter name\")\n",
    "department = input(\"Enter Department\")\n",
    "job = input(\"Enter job\")\n"
   ]
  },
  {
   "cell_type": "code",
   "execution_count": 4,
   "id": "3647decc",
   "metadata": {},
   "outputs": [],
   "source": [
    "employee = {}\n",
    "\n",
    "employee[employee_id] = {'Name':name , 'Department':department , 'Job':job }"
   ]
  },
  {
   "cell_type": "code",
   "execution_count": 9,
   "id": "7d762bd2",
   "metadata": {},
   "outputs": [
    {
     "name": "stdout",
     "output_type": "stream",
     "text": [
      "Enter Employee ID101\n",
      "Enter namesid\n",
      "Enter Departmentcs\n",
      "Enter jobtrainee\n",
      "Do You Want To Continue ? Enter Y or Ny\n",
      "Enter Employee ID102\n",
      "Enter namesiddharth\n",
      "Enter Departmentcse\n",
      "Enter jobengineer\n",
      "Do You Want To Continue ? Enter Y or Nn\n"
     ]
    }
   ],
   "source": [
    "employee = {}\n",
    "\n",
    "def input_details():\n",
    "\n",
    "    employee_id = input(\"Enter Employee ID\")\n",
    "    name = input(\"Enter name\")\n",
    "    department = input(\"Enter Department\")\n",
    "    job = input(\"Enter job\")\n",
    "\n",
    "\n",
    "\n",
    "    employee[employee_id] = {'Name':name , 'Department':department , 'Job':job }\n",
    "\n",
    "\n",
    "\n",
    "\n",
    "\n",
    "while(True):\n",
    "    input_details()\n",
    "    try:\n",
    "        do_you_want_to_continue = str(input(\"Do You Want To Continue ? Enter Y or N\"))\n",
    "    except TypeError:\n",
    "        print(\"You entered the wrong command\")\n",
    "        continue\n",
    "\n",
    "    if do_you_want_to_continue == 'y' or do_you_want_to_continue == 'Y':\n",
    "        continue\n",
    "    else:\n",
    "        break"
   ]
  },
  {
   "cell_type": "code",
   "execution_count": 10,
   "id": "d4682d4f",
   "metadata": {},
   "outputs": [
    {
     "data": {
      "text/plain": [
       "{'101': {'Name': 'sid', 'Department': 'cs', 'Job': 'trainee'},\n",
       " '102': {'Name': 'siddharth', 'Department': 'cse', 'Job': 'engineer'}}"
      ]
     },
     "execution_count": 10,
     "metadata": {},
     "output_type": "execute_result"
    }
   ],
   "source": [
    "employee"
   ]
  },
  {
   "cell_type": "code",
   "execution_count": 11,
   "id": "8b8233a3",
   "metadata": {},
   "outputs": [],
   "source": [
    "import json\n"
   ]
  },
  {
   "cell_type": "code",
   "execution_count": 12,
   "id": "aed67353",
   "metadata": {},
   "outputs": [],
   "source": [
    "with open(\"sample.json\", \"w\") as outfile:\n",
    "    json.dump(employee, outfile)"
   ]
  },
  {
   "cell_type": "code",
   "execution_count": 1,
   "id": "ca6d327c",
   "metadata": {},
   "outputs": [],
   "source": [
    "from filename import FileName"
   ]
  },
  {
   "cell_type": "code",
   "execution_count": 2,
   "id": "cacb9c2d",
   "metadata": {},
   "outputs": [],
   "source": [
    "fl = FileName()"
   ]
  },
  {
   "cell_type": "code",
   "execution_count": 4,
   "id": "7623183f",
   "metadata": {},
   "outputs": [
    {
     "data": {
      "text/plain": [
       "'sample2.json'"
      ]
     },
     "execution_count": 4,
     "metadata": {},
     "output_type": "execute_result"
    }
   ],
   "source": [
    "fl.filename"
   ]
  },
  {
   "cell_type": "code",
   "execution_count": null,
   "id": "4ce2116e",
   "metadata": {},
   "outputs": [],
   "source": []
  }
 ],
 "metadata": {
  "kernelspec": {
   "display_name": "Python 3",
   "language": "python",
   "name": "python3"
  },
  "language_info": {
   "codemirror_mode": {
    "name": "ipython",
    "version": 3
   },
   "file_extension": ".py",
   "mimetype": "text/x-python",
   "name": "python",
   "nbconvert_exporter": "python",
   "pygments_lexer": "ipython3",
   "version": "3.8.8"
  }
 },
 "nbformat": 4,
 "nbformat_minor": 5
}
